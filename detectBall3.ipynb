{
 "cells": [
  {
   "cell_type": "code",
   "execution_count": null,
   "metadata": {},
   "outputs": [],
   "source": [
    "from pydub import AudioSegment\n",
    "import numpy as np\n",
    "import os\n",
    "import librosa\n",
    "from scipy.signal import argrelmax\n",
    "import pandas as pd\n",
    "from pydub import  silence\n",
    "from pydub.playback import play\n",
    "import matplotlib.pyplot as plt\n",
    "from pydub.utils import mediainfo\n",
    "import numpy, scipy.optimize\n",
    "from scipy.signal import find_peaks"
   ]
  },
  {
   "cell_type": "markdown",
   "metadata": {},
   "source": [
    "Reading the file:"
   ]
  },
  {
   "cell_type": "code",
   "execution_count": null,
   "metadata": {},
   "outputs": [],
   "source": [
    "FILE_NAME='./sound_of_ball_original.wav'\n",
    "info = mediainfo(FILE_NAME)\n",
    "original_sample_rate=int(info['sample_rate'])\n",
    "sound = AudioSegment.from_file(FILE_NAME)"
   ]
  },
  {
   "cell_type": "code",
   "execution_count": null,
   "metadata": {},
   "outputs": [],
   "source": [
    "def speed_change(sound, speed=1.0):\n",
    "    # Manually override the frame_rate. This tells the computer how many\n",
    "    # samples to play per second\n",
    "    sound_with_altered_frame_rate = sound._spawn(sound.raw_data, overrides={\n",
    "        \"frame_rate\": int(sound.frame_rate * speed)\n",
    "    })\n",
    "\n",
    "    # convert the sound with altered frame rate to a standard frame rate\n",
    "    # so that regular playback programs will work right. They often only\n",
    "    # know how to play audio at standard frame rate (like 44.1k)\n",
    "    return sound_with_altered_frame_rate.set_frame_rate(sound.frame_rate)"
   ]
  },
  {
   "cell_type": "markdown",
   "metadata": {},
   "source": [
    "- Get the sample\n",
    "- Plot it\n",
    "- Get the most important frequency \n",
    "- Plot it low pass filtered sample\n",
    "- Count the crosses"
   ]
  },
  {
   "cell_type": "code",
   "execution_count": null,
   "metadata": {},
   "outputs": [],
   "source": [
    "samples = sound.get_array_of_samples()\n",
    "samples_list=samples.tolist()\n",
    "one_sample=samples[100000:180000]\n",
    "short_sound = AudioSegment(one_sample.tobytes(), frame_rate=sound.frame_rate,sample_width=sound.sample_width,channels=1)\n",
    "file_handle = short_sound.export(\"short_sound_output.wav\", format=\"wav\")\n",
    "plt.figure(figsize=[20,8])\n",
    "plt.plot(one_sample)"
   ]
  },
  {
   "cell_type": "code",
   "execution_count": null,
   "metadata": {},
   "outputs": [],
   "source": [
    "rosa_sound, sr=librosa.load(FILE_NAME, sr=int(original_sample_rate))\n",
    "ft=np.fft.fft(rosa_sound)\n",
    "ft_mag=np.abs(ft)\n",
    "# plt.plot(ft_mag[:10000])\n",
    "ft_mag_list=ft_mag.tolist()\n",
    "np.argmax(ft_mag_list)"
   ]
  },
  {
   "cell_type": "code",
   "execution_count": null,
   "metadata": {},
   "outputs": [],
   "source": [
    "temp_ft=np.fft.fft(samples)\n",
    "temp_ft_abs=np.abs(temp_ft)\n",
    "temp_ft_abs=temp_ft_abs[:len(temp_ft_abs)//2]\n",
    "# plt.plot(temp_ft_abs)\n",
    "max_index=np.argmax(temp_ft_abs)\n",
    "len(temp_ft_abs)-max_index #3196\n",
    "print(max_index)\n",
    "print(max(temp_ft_abs))\n",
    "print(temp_ft_abs[max_index])"
   ]
  },
  {
   "cell_type": "code",
   "execution_count": null,
   "metadata": {},
   "outputs": [],
   "source": [
    "f_ratio=0.2\n",
    "freq_x=np.linspace(0, original_sample_rate, len(ft_mag))\n",
    "num_freq_bins=int(len(freq_x)* f_ratio)\n",
    "#plt.plot(freq_x[:num_freq_bins], ft_mag[:num_freq_bins])\n",
    "# plt.plot([x if x > 3000 else 0 for x in ft_mag[:2000]])"
   ]
  },
  {
   "cell_type": "code",
   "execution_count": null,
   "metadata": {},
   "outputs": [],
   "source": [
    "new_short_lpf=short_sound.low_pass_filter(max_index)"
   ]
  },
  {
   "cell_type": "code",
   "execution_count": null,
   "metadata": {},
   "outputs": [],
   "source": [
    "plt.figure(figsize=[200,20])\n",
    "short_sound_list=short_sound.get_array_of_samples()\n",
    "new_short_lpf_list=new_short_lpf.get_array_of_samples()\n",
    "plt.plot(short_sound_list)\n",
    "plt.plot(new_short_lpf_list,color='r')"
   ]
  },
  {
   "cell_type": "markdown",
   "metadata": {},
   "source": [
    "Smoothing the one sample\n",
    "idea 1\n",
    "- keep increasing the smoothing window until peaks find opposite peaks in the function"
   ]
  },
  {
   "cell_type": "code",
   "execution_count": 89,
   "metadata": {},
   "outputs": [
    {
     "name": "stdout",
     "output_type": "stream",
     "text": [
      "1000 0\n",
      "2000 0\n",
      "3000 0\n",
      "4000 0\n",
      "5000 0\n",
      "6000 0\n",
      "7000 0\n",
      "8000 0\n",
      "9000 0\n",
      "10000 0\n",
      "11000 0\n",
      "12000 0\n",
      "13000 0\n",
      "14000 0\n",
      "15000 0\n",
      "16000 0\n",
      "17000 0\n",
      "18000 0\n",
      "19000 0\n",
      "20000 0\n",
      "21000 0\n",
      "22000 0\n"
     ]
    },
    {
     "name": "stderr",
     "output_type": "stream",
     "text": [
      "/var/folders/g7/d67l17rx3kj9tcws82pm0d8c0000gn/T/ipykernel_22451/1473135771.py:6: RuntimeWarning: More than 20 figures have been opened. Figures created through the pyplot interface (`matplotlib.pyplot.figure`) are retained until explicitly closed and may consume too much memory. (To control this warning, see the rcParam `figure.max_open_warning`). Consider using `matplotlib.pyplot.close()`.\n",
      "  plt.figure(figsize=[18,8])\n"
     ]
    },
    {
     "name": "stdout",
     "output_type": "stream",
     "text": [
      "23000 0\n",
      "24000 0\n",
      "25000 0\n",
      "26000 0\n",
      "27000 0\n",
      "28000 0\n",
      "29000 0\n",
      "30000 0\n",
      "31000 0\n",
      "32000 0\n",
      "33000 0\n",
      "34000 0\n",
      "35000 0\n",
      "36000 0\n",
      "37000 0\n",
      "38000 0\n",
      "39000 0\n",
      "40000 0\n",
      "41000 0\n",
      "42000 0\n",
      "43000 0\n",
      "44000 0\n",
      "45000 0\n",
      "46000 0\n",
      "47000 0\n",
      "48000 0\n",
      "49000 0\n",
      "50000 0\n",
      "51000 0\n",
      "52000 0\n",
      "53000 0\n",
      "54000 0\n",
      "55000 0\n",
      "56000 0\n",
      "57000 0\n",
      "58000 0\n",
      "59000 0\n",
      "60000 0\n",
      "61000 0\n",
      "62000 0\n",
      "63000 0\n",
      "64000 0\n",
      "65000 0\n",
      "66000 0\n",
      "67000 0\n",
      "68000 0\n",
      "69000 0\n",
      "70000 0\n",
      "71000 0\n",
      "72000 0\n",
      "73000 0\n",
      "74000 0\n",
      "75000 0\n",
      "76000 0\n",
      "77000 0\n",
      "78000 0\n",
      "79000 0\n",
      "80000 0\n",
      "81000 0\n",
      "82000 0\n",
      "83000 0\n",
      "84000 0\n",
      "85000 0\n",
      "86000 0\n",
      "87000 0\n",
      "88000 0\n",
      "89000 0\n",
      "90000 0\n",
      "91000 0\n",
      "92000 0\n",
      "93000 0\n",
      "94000 0\n",
      "95000 0\n",
      "96000 0\n",
      "97000 0\n",
      "98000 0\n",
      "99000 0\n"
     ]
    }
   ],
   "source": [
    "# one_sample=one_sample[10000:-10000]\n",
    "smooth_window=1000\n",
    "for smooth_window in range(1000, 100000,1000):\n",
    "    one_sample_series=pd.Series(one_sample)\n",
    "    one_sample_smooth1=one_sample_series.rolling(smooth_window).mean()\n",
    "    plt.figure(figsize=[18,8])\n",
    "    plt.plot(one_sample)\n",
    "    plt.plot(one_sample_smooth1, color='r')\n",
    "    ppeaks, _ = find_peaks(one_sample_smooth1)\n",
    "    npeaks, _ = find_peaks(-one_sample_smooth1)\n",
    "    all_peaks=list(ppeaks)+list(npeaks)\n",
    "    all_peaks.sort()\n",
    "    true_peaks=[]\n",
    "    i=1\n",
    "    for i in range(1,len(true_peaks)-1):\n",
    "        if np.sign(one_sample_smooth1[all_peaks[i]])!= np.sign(one_sample_smooth1[all_peaks[i-1]]) and np.sign(one_sample_smooth1[all_peaks[i]])!= np.sign(one_sample_smooth1[all_peaks[i+1]]) :\n",
    "            true_peaks.append(all_peaks[i])\n",
    "    print(smooth_window, len(true_peaks))\n",
    "# plt.plot(true_peaks, one_sample_smooth1[true_peaks], 'o', color='green')"
   ]
  },
  {
   "cell_type": "code",
   "execution_count": 85,
   "metadata": {},
   "outputs": [
    {
     "data": {
      "text/plain": [
       "0"
      ]
     },
     "execution_count": 85,
     "metadata": {},
     "output_type": "execute_result"
    }
   ],
   "source": [
    "len(true_peaks)"
   ]
  },
  {
   "cell_type": "markdown",
   "metadata": {},
   "source": [
    "Curve fitting"
   ]
  },
  {
   "cell_type": "code",
   "execution_count": null,
   "metadata": {},
   "outputs": [],
   "source": [
    "from scipy import optimize\n",
    "def test_func(x, a, b):\n",
    "    return a * np.sin(b * x)\n",
    "x_vals=np.linspace(0,len(samples)-1, num=len(samples))\n",
    "params, params_covariance = optimize.curve_fit(test_func, x_vals, samples)\n",
    "print(params)"
   ]
  },
  {
   "cell_type": "code",
   "execution_count": null,
   "metadata": {},
   "outputs": [],
   "source": [
    "plt.figure(figsize=(16, 8))\n",
    "plt.plot(x_vals[:len(one_sample)], one_sample, label='Data')\n",
    "test_ddd=test_func(x_vals[:len(one_sample)], params[0], params[1])\n",
    "plt.plot(x_vals[:len(one_sample)], test_ddd,\n",
    "         label='Fitted function', color='r')\n",
    "plt.legend(loc='best')\n",
    "plt.show()"
   ]
  },
  {
   "cell_type": "code",
   "execution_count": null,
   "metadata": {},
   "outputs": [],
   "source": [
    "plt.plot(test_ddd[1:100])"
   ]
  },
  {
   "cell_type": "code",
   "execution_count": null,
   "metadata": {},
   "outputs": [],
   "source": [
    "\n",
    "\n",
    "powz=3\n",
    "short_sound_list_powered=list(map(lambda x:pow(x,powz),short_sound_list))\n",
    "short_sound_df=pd.Series(short_sound_list_powered)\n",
    "short_sound_list_powered_smooth1=short_sound_df.rolling(500).mean()\n",
    "plt.plot(short_sound_list_powered_smooth1,'+',color='g')\n",
    "short_sound_list_powered_smooth2=short_sound_list_powered_smooth1.rolling(500).mean()\n",
    "plt.plot(short_sound_list_powered_smooth1,'+',color='black')\n",
    "\n",
    "# %%\n",
    "\n",
    "slow_sound_lpf = speed_change(new_short_lpf, 0.1)\n",
    "# play(slow_sound+20)\n",
    "# %%\n",
    "plt.figure(figsize=(12,7))\n",
    "slow_sound_lpf_list=list(slow_sound_lpf.get_array_of_samples())\n",
    "plt.plot(slow_sound)\n",
    "# %%\n",
    "file_handle = slow_sound_lpf.export(\"slow_sound_output.wav\", format=\"wav\")\n",
    "# %%\n",
    "slow_sound_list_df=pd.Series(slow_sound_lpf_list)\n",
    "smooth1_slow_sound_list=slow_sound_list_df.rolling(10000).max()\n",
    "smooth2_slow_sound_list=slow_sound_list_df.rolling(10000).min()\n",
    "plt.figure(figsize=[15,5])\n",
    "plt.plot(smooth1_slow_sound_list)\n",
    "plt.plot(smooth2_slow_sound_list)\n",
    "# plt.plot(slow_sound_list)\n",
    "plt.show()\n",
    "\n",
    "# %%\n",
    "# peaks, _ = find_peaks(slow_sound_lpf_list, height=threshold, distance=min_distance_between_peaks)\n",
    "maxAmp=max(slow_sound_list_df)\n",
    "peaks, _ = find_peaks(slow_sound_lpf_list, height=0.5*maxAmp)\n",
    "# %%\n",
    "len(peaks)\n",
    "# %%\n",
    "# a positive peak is max between two negatives\n",
    "peakpeak=[0]*len(slow_sound_list_df)\n",
    "positives=[]\n",
    "negatives=[]\n",
    "for i in peaks:\n",
    "    if slow_sound_list_df[i]<0:\n",
    "        negatives.append((i, slow_sound_list_df[i]))\n",
    "        # mark the peak\n",
    "        if positives:\n",
    "            aPair=max(positives, key=lambda item: item[1])\n",
    "            print(aPair)\n",
    "            peakpeak[aPair[0]]=aPair[1]\n",
    "        positives=[]\n",
    "    else:\n",
    "        positives.append((i, slow_sound_list_df[i]))\n",
    "        #negs\n",
    "        if negatives:\n",
    "            aPair=min(negatives, key=lambda item: item[1])\n",
    "            peakpeak[aPair[0]]=aPair[1]\n",
    "        negatives=[]\n",
    "plt.figure(figsize=(20,7))\n",
    "plt.plot(slow_sound_lpf_list)\n",
    "plt.plot(peaks,slow_sound_list_df[peaks],'o', color='g')\n",
    "plt.plot(peakpeak,'o',color='r')\n",
    "sum([1 if i>0 else 0 for i in peakpeak])\n",
    "\n",
    "\n",
    "# %%\n",
    "peaks\n",
    "# %% fitting sine wave\n",
    "\n"
   ]
  }
 ],
 "metadata": {
  "kernelspec": {
   "display_name": "base",
   "language": "python",
   "name": "python3"
  },
  "language_info": {
   "codemirror_mode": {
    "name": "ipython",
    "version": 3
   },
   "file_extension": ".py",
   "mimetype": "text/x-python",
   "name": "python",
   "nbconvert_exporter": "python",
   "pygments_lexer": "ipython3",
   "version": "3.10.9"
  }
 },
 "nbformat": 4,
 "nbformat_minor": 2
}
