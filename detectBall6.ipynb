{
 "cells": [
  {
   "cell_type": "markdown",
   "metadata": {},
   "source": [
    "##### Steps to detect duration and frequency of ball bouncing from wav file\n",
    "1. Import necessary libraries\n",
    "2. Open audio File\n",
    "3. Detect periods of activity\n",
    "4. For Each period, find the frequency of the ball\n",
    "5. Output: \n",
    "    1. Plot a graph identifying periods of activity \n",
    "    2. Plot a sample period sinsoidal wave over activity\n",
    "    3. Output excel file with columns: start period, end period, duration, frequency, number of bounces"
   ]
  },
  {
   "cell_type": "markdown",
   "metadata": {},
   "source": [
    "1. Import necessary libraries"
   ]
  },
  {
   "cell_type": "code",
   "execution_count": 39,
   "metadata": {},
   "outputs": [],
   "source": [
    "# for opening audio files and play back\n",
    "from pydub import AudioSegment\n",
    "from pydub.playback import play\n",
    "from pydub.utils import mediainfo\n",
    "# for plotting\n",
    "import matplotlib.pyplot as plt\n",
    "# for calculating standard deviation\n",
    "import numpy as np\n",
    "import pandas as pd\n",
    "# for estimating frequency\n",
    "import scipy.optimize\n",
    "from collections import deque\n",
    "from math import sqrt\n",
    "# for file saving the output\n",
    "import os\n",
    "import time"
   ]
  },
  {
   "cell_type": "markdown",
   "metadata": {},
   "source": [
    "Controlling parameters"
   ]
  },
  {
   "cell_type": "code",
   "execution_count": null,
   "metadata": {},
   "outputs": [],
   "source": [
    "# There can be breathing noise in audio, if detected bounces is less than the following\n",
    "# number, it is not registered in the output file\n",
    "MINIMUM_BOUNCES_TO_ADD_TO_RESULTS = 5\n",
    "# If you want to show figures to understand the algorithm more, make the following True\n",
    "SHOW_FIGURES = False\n",
    "# figure size\n",
    "FIG_SIZE = [18, 8]\n",
    "# Enable this flag to see more debugging messages\n",
    "SHOW_DEBUG_MESSAGES = False\n",
    "# 80 th percentile and window size of 1000 are good estimates\n",
    "INITIAL_WINDOW_SIZE = 1000\n",
    "PERCENTILE_LEVEL = 80\n",
    "# where to find the input audio file\n",
    "SOUND_FILES_FOLDER = './sound_files'\n",
    "ORIGINALS_SUB_FOLDER = 'originals'"
   ]
  },
  {
   "cell_type": "markdown",
   "metadata": {},
   "source": [
    "In the pervious cell, we select the window size for our smoothing operation to be 1000 and the percentile to be 80th percentile\n",
    "The percentile idea works as follows: \n",
    "- Get the samples the are above the 80th percentile. These are used to mark areas of activity. \n",
    "- This helps reduce the noise and false positives "
   ]
  },
  {
   "cell_type": "markdown",
   "metadata": {},
   "source": [
    "2. Open audio File"
   ]
  },
  {
   "cell_type": "code",
   "execution_count": null,
   "metadata": {},
   "outputs": [],
   "source": [
    "FILE_NAME_ONLY_DICT = {'original_work_file': 'sound_of_ball_original.wav',\n",
    "                       'file_with_breathing': 'pep4_2nd_original.mp3', 'fifth_file': 'AUD-20231221-WA0007_5th.m4a'}\n",
    "FILE_NAME_ONLY=FILE_NAME_ONLY_DICT['fifth_file']\n",
    "FILE_NAME = os.path.join(SOUND_FILES_FOLDER, ORIGINALS_SUB_FOLDER, FILE_NAME_ONLY)\n",
    "# what is the sampling rate in the recorded audio file\n",
    "info = mediainfo(FILE_NAME)\n",
    "original_sample_rate=int(info['sample_rate'])\n",
    "sound = AudioSegment.from_file(FILE_NAME)\n",
    "# some files are stereo, then select the channel with higher power\n",
    "if info['channels'] == '2':  # stereo\n",
    "    sound_split = sound.split_to_mono()\n",
    "    if sound_split[0].dBFS > sound_split[1].dBFS:\n",
    "        sound = sound_split[0]\n",
    "    else:\n",
    "        sound = sound_split[1]\n",
    "# Let's get the samples to work with\n",
    "samples = sound.get_array_of_samples()\n",
    "samples_list=samples.tolist()"
   ]
  },
  {
   "cell_type": "markdown",
   "metadata": {},
   "source": [
    "The following cell plots the original signal"
   ]
  },
  {
   "cell_type": "code",
   "execution_count": null,
   "metadata": {},
   "outputs": [],
   "source": [
    "# make the sound lounder\n",
    "sound_louder = sound+10\n",
    "if SHOW_FIGURES:\n",
    "    plt.figure(figsize=FIG_SIZE)\n",
    "    _=plt.plot(samples_list, alpha=.5, color='blue', label='Original Signal')\n",
    "    _=plt.plot(sound_louder.get_array_of_samples().tolist(), alpha=0.1, color='red', label='Magnified signal')\n",
    "    plt.legend(loc='best')"
   ]
  },
  {
   "cell_type": "markdown",
   "metadata": {},
   "source": [
    "3. Detect periods of activity"
   ]
  },
  {
   "cell_type": "code",
   "execution_count": null,
   "metadata": {},
   "outputs": [],
   "source": [
    "# 80 th percentile and window size of 1000 are good estimates\n",
    "samples_list = sound_louder.get_array_of_samples().tolist()\n",
    "window_size = INITIAL_WINDOW_SIZE\n",
    "abs_samples_list = [abs(ele) for ele in samples_list]\n",
    "abs_samples_list_pd = pd.Series(abs_samples_list)\n",
    "req_percentile = np.percentile(abs_samples_list, PERCENTILE_LEVEL)\n",
    "max_val = max(abs_samples_list)\n",
    "# [f(x) if condition else g(x) for x in sequence]\n",
    "signal_on = [max_val if x > req_percentile else 0 for x in abs_samples_list]\n",
    "block_signal_on_slow = signal_on.copy()\n",
    "block_signal_on = signal_on.copy()"
   ]
  },
  {
   "cell_type": "code",
   "execution_count": null,
   "metadata": {},
   "outputs": [],
   "source": [
    "fast_i=window_size+1\n",
    "high_val_list = [max_val]*2*window_size\n",
    "while fast_i<len(samples_list)-window_size:\n",
    "    if signal_on[fast_i]==max_val:\n",
    "        block_signal_on[fast_i-window_size:fast_i+window_size]=high_val_list\n",
    "        fast_i+=window_size\n",
    "    else:\n",
    "        fast_i+=1"
   ]
  },
  {
   "cell_type": "markdown",
   "metadata": {},
   "source": [
    "Identify periods of activity start and end"
   ]
  },
  {
   "cell_type": "code",
   "execution_count": null,
   "metadata": {},
   "outputs": [],
   "source": [
    "signal_on_periods=[]\n",
    "period_start=-1\n",
    "period_end=-1\n",
    "for i in range(len(block_signal_on)):\n",
    "    if block_signal_on[i]!=0:\n",
    "        if period_start==-1:\n",
    "            period_start=i\n",
    "    else:\n",
    "        if period_start!=-1 and period_end==-1:\n",
    "            period_end = i\n",
    "            signal_on_periods.append(tuple([period_start, period_end]))\n",
    "            period_start=period_end=-1"
   ]
  },
  {
   "cell_type": "markdown",
   "metadata": {},
   "source": [
    "Method 2: detecting and counting energy"
   ]
  },
  {
   "cell_type": "code",
   "execution_count": null,
   "metadata": {},
   "outputs": [],
   "source": [
    "def sinfunc(t, A, w, p, c):\n",
    "    return A * np.sin(w*t + p) + c\n",
    "def fit_sin(tt, yy):\n",
    "    '''Fit sin to the input time sequence, and return fitting parameters \"amp\", \"omega\", \"phase\", \"offset\", \"freq\", \"period\" and \"fitfunc\"'''\n",
    "    tt = np.array(tt)\n",
    "    yy = np.array(yy)\n",
    "    ff = np.fft.fftfreq(len(tt), (tt[1]-tt[0]))   # assume uniform spacing\n",
    "    Fyy = abs(np.fft.fft(yy))\n",
    "    # excluding the zero frequency \"peak\", which is related to offset\n",
    "    guess_freq = abs(ff[np.argmax(Fyy[1:])+1])\n",
    "    guess_amp = np.std(yy) * 2.**0.5\n",
    "    guess_offset = np.mean(yy)\n",
    "    guess = np.array([guess_amp, 2.*np.pi*guess_freq, 0., guess_offset])\n",
    "\n",
    "    popt, pcov = scipy.optimize.curve_fit(sinfunc, tt, yy, p0=guess)\n",
    "    A, w, p, c = popt\n",
    "    f = w/(2.*np.pi)\n",
    "    def fitfunc(t): return A * np.sin(w*t + p) + c\n",
    "    return {\"amp\": A, \"omega\": w, \"phase\": p, \"offset\": c, \"freq\": f, \"period\": 1./f, \"fitfunc\": fitfunc, \"maxcov\": np.max(pcov), \"rawres\": (guess, popt,pcov)}"
   ]
  },
  {
   "cell_type": "markdown",
   "metadata": {},
   "source": [
    "Speeding up Rolling Standard Deviation [Calculations](https://stackoverflow.com/questions/71594436/is-there-a-fast-running-rolling-standard-deviation-algorithm)"
   ]
  },
  {
   "cell_type": "code",
   "execution_count": null,
   "metadata": {},
   "outputs": [],
   "source": [
    "class RunningStd:\n",
    "    def __init__(self, n, initial_window_data):\n",
    "        self.n = n\n",
    "        self.data = deque(list(initial_window_data), maxlen=n)\n",
    "        self.mean = np.mean(self.data)\n",
    "        self.sdev = np.std(self.data)\n",
    "        self.variance = self.sdev * self.sdev\n",
    "\n",
    "    def add(self, x):\n",
    "        n = self.n\n",
    "        oldmean = self.mean\n",
    "        goingaway = self.data[0]\n",
    "        self.mean = newmean = oldmean + (x - goingaway) / n\n",
    "        self.data.append(x)\n",
    "        self.variance += (x - goingaway) * (\n",
    "            (x - newmean) + (goingaway - oldmean)) / (n - 1)\n",
    "        self.sdev = sqrt(self.variance)"
   ]
  },
  {
   "cell_type": "code",
   "execution_count": null,
   "metadata": {},
   "outputs": [],
   "source": [
    "def func1(x):\n",
    "    print('before...\\t', running_std_obj.sdev, '\\tadding x:', x[-1])\n",
    "    running_std_obj.add(x[-1])\n",
    "    print('after...', running_std_obj.sdev)\n",
    "    return running_std_obj.sdev\n",
    "\n",
    "rolling_res=one_sample_series.rolling(window=initial_window_size).apply(func1, raw=True)"
   ]
  },
  {
   "cell_type": "code",
   "execution_count": null,
   "metadata": {},
   "outputs": [],
   "source": [
    "running_std_obj = RunningStd(INITIAL_WINDOW_SIZE, one_sample[:INITIAL_WINDOW_SIZE])\n",
    "type(running_std_obj.sdev)\n",
    "type(one_sample_series)"
   ]
  },
  {
   "cell_type": "code",
   "execution_count": null,
   "metadata": {},
   "outputs": [],
   "source": [
    "SHOW_FIGURES=True"
   ]
  },
  {
   "cell_type": "code",
   "execution_count": null,
   "metadata": {},
   "outputs": [],
   "source": [
    "all_result_dict = {}\n",
    "period_index = 0\n",
    "i=0\n",
    "initial_window_size=INITIAL_WINDOW_SIZE\n",
    "for period_start, period_end in signal_on_periods:\n",
    "    try:\n",
    "        one_result_dict = {}\n",
    "        one_result_dict['start'] = period_start\n",
    "        one_result_dict['end'] = period_end\n",
    "        one_sample = samples[period_start:period_end]\n",
    "        running_std_obj=RunningStd(INITIAL_WINDOW_SIZE, one_sample[:INITIAL_WINDOW_SIZE])\n",
    "\n",
    "\n",
    "        if SHOW_FIGURES:\n",
    "            plt.figure(figsize=FIG_SIZE)\n",
    "            plt.plot(one_sample, alpha=0.5)\n",
    "\n",
    "        # if you want to listen to the segment, uncomment the lines below:\n",
    "        # 1000 here because it is in milliseconds\n",
    "        # seg = sound[period_start/original_sample_rate*1000:period_end/original_sample_rate*1000]\n",
    "        # play(seg)\n",
    "\n",
    "        one_sample_series=pd.Series(one_sample)\n",
    "        # calculate the standard deviation\n",
    "        #periods with sound of ball hitting wall have high variance in values\n",
    "        def func1(x):\n",
    "            running_std_obj.add(x[-1])\n",
    "            return running_std_obj.sdev\n",
    "\n",
    "        rolling_res=one_sample_series.rolling(window=initial_window_size).apply(func1, raw=True)\n",
    "\n",
    "        def func1_slow(x):\n",
    "            return np.std(x)\n",
    "        rolling_res_slow = one_sample_series.rolling(\n",
    "            window=initial_window_size).apply(func1_slow)\n",
    "\n",
    "        if SHOW_FIGURES:\n",
    "            plt.plot(rolling_res, color='green', alpha=1, label='rolling_res')\n",
    "            plt.plot(rolling_res_slow, color='red', alpha=1, label='rolling_res_slow')\n",
    "            plt.legend(loc=\"upper left\")\n",
    "            plt.show()\n",
    "\n",
    "        # fit sine wave\n",
    "        if SHOW_FIGURES:\n",
    "            fig, ax = plt.subplots(figsize=FIG_SIZE)\n",
    "        data_to_fit=rolling_res\n",
    "        # filling na data\n",
    "        data_to_fit=data_to_fit.fillna(np.mean(data_to_fit))\n",
    "        # standardizing the data to make it easier for fitting signal to identify it\n",
    "        dataMean = np.mean(data_to_fit)\n",
    "        dataStd=np.std(data_to_fit)\n",
    "        data_to_fit_standardized=(data_to_fit-dataMean)/dataStd\n",
    "        if SHOW_FIGURES:\n",
    "            ax.plot(data_to_fit_standardized, color='red',\n",
    "                    alpha=0.4, label='data_to_fit_standardized')\n",
    "\n",
    "        # shift the data to be around the x axis\n",
    "        def func2(x):\n",
    "            return x[0]-np.mean(x)\n",
    "        data_to_fit_standardized_shifted = data_to_fit_standardized.rolling(window=initial_window_size).apply(func2, raw=True)\n",
    "        if SHOW_FIGURES:\n",
    "            ax.plot(data_to_fit_standardized_shifted, color='blue',\n",
    "                    alpha=1, label='data_to_fit_standardized_shifted')\n",
    "        x_vals = np.linspace(0, len(data_to_fit_standardized_shifted)-1,\n",
    "                            num=len(data_to_fit_standardized_shifted))\n",
    "        x_vals_test = np.linspace(0, len(data_to_fit_standardized_shifted)-1,\n",
    "                                num=100 * len(data_to_fit_standardized))\n",
    "        # replace na values\n",
    "        ds_mean = data_to_fit_standardized_shifted.mean()\n",
    "        data_to_fit_standardized_shifted.fillna(value=ds_mean, inplace=True)\n",
    "        res = fit_sin(x_vals, data_to_fit_standardized_shifted)\n",
    "        if SHOW_DEBUG_MESSAGES:\n",
    "            print( \"Amplitude=%(amp)s, Angular freq.=%(omega)s, phase=%(phase)s, offset=%(offset)s, Max. Cov.=%(maxcov)s\" % res )\n",
    "        if SHOW_FIGURES:\n",
    "            plt.plot(x_vals_test, res[\"fitfunc\"](x_vals_test), \"r-\", label=\"y fit curve\", linewidth=2)\n",
    "            ax.legend(loc='best')\n",
    "            ax.grid(True, which='both')\n",
    "            plt.show()\n",
    "\n",
    "        # should I add this to the result:\n",
    "        this_period_freq = res['omega']/(2*np.pi)\n",
    "        this_period_bounce_count = int(\n",
    "            this_period_freq*(period_end-period_start))\n",
    "        if this_period_bounce_count > MINIMUM_BOUNCES_TO_ADD_TO_RESULTS:\n",
    "            one_result_dict['period_index'] = period_index\n",
    "            one_result_dict['the_freq'] = this_period_freq\n",
    "            one_result_dict['bounce_count'] = int(\n",
    "                one_result_dict['the_freq']*(period_end-period_start))\n",
    "            one_result_dict['period_duration'] = (\n",
    "                period_end-period_start)/original_sample_rate\n",
    "            if SHOW_DEBUG_MESSAGES:\n",
    "                print('The bouncing frequency:', one_result_dict['the_freq'], end='\\t')\n",
    "                print('Period bounce count:', one_result_dict['bounce_count'], end='\\t')\n",
    "                print('Period duration:', one_result_dict['period_duration'])\n",
    "            all_result_dict[period_index] = one_result_dict.copy()\n",
    "            period_index += 1\n",
    "\n",
    "    except Exception as error:\n",
    "        print(\"An error has occured: \", error)"
   ]
  },
  {
   "cell_type": "markdown",
   "metadata": {},
   "source": [
    "Export to Excel file"
   ]
  },
  {
   "cell_type": "code",
   "execution_count": null,
   "metadata": {},
   "outputs": [],
   "source": [
    "timestr = time.strftime(\"%Y%m%d-%H%M%S\")\n",
    "all_df=pd.DataFrame()\n",
    "for period_index, period_details in all_result_dict.items():\n",
    "    if all_df.size==0:\n",
    "        all_df = pd.DataFrame(data=period_details, index=[0])\n",
    "    else:\n",
    "        one_df=pd.DataFrame(data=period_details, index=[0])\n",
    "        all_df=pd.concat([all_df,one_df])\n",
    "\n",
    "all_df.to_excel('./'+FILE_NAME+'_'+timestr+'_'+'Ball_Bounces.xlsx')\n"
   ]
  },
  {
   "cell_type": "markdown",
   "metadata": {},
   "source": [
    "#### Appendix and helper functions"
   ]
  },
  {
   "cell_type": "markdown",
   "metadata": {},
   "source": [
    "One Sample audio file"
   ]
  },
  {
   "cell_type": "code",
   "execution_count": null,
   "metadata": {},
   "outputs": [],
   "source": [
    "one_sample=samples[100000:180000]\n",
    "short_sound = AudioSegment(one_sample.tobytes(), frame_rate=sound.frame_rate,sample_width=sound.sample_width,channels=1)\n",
    "file_handle = short_sound.export(\"short_sound_output.wav\", format=\"wav\")\n",
    "plt.figure(figsize=FIG_SIZE)\n",
    "plt.plot(one_sample)"
   ]
  },
  {
   "cell_type": "markdown",
   "metadata": {},
   "source": [
    "Slow down file to count bounces and update model"
   ]
  },
  {
   "cell_type": "code",
   "execution_count": null,
   "metadata": {},
   "outputs": [],
   "source": [
    "def speed_change(sound, speed=1.0):\n",
    "    # Manually override the frame_rate. This tells the computer how many\n",
    "    # samples to play per second\n",
    "    sound_with_altered_frame_rate = sound._spawn(sound.raw_data, overrides={\n",
    "        \"frame_rate\": int(sound.frame_rate * speed)\n",
    "    })\n",
    "\n",
    "    # convert the sound with altered frame rate to a standard frame rate\n",
    "    # so that regular playback programs will work right. They often only\n",
    "    # know how to play audio at standard frame rate (like 44.1k)\n",
    "    return sound_with_altered_frame_rate.set_frame_rate(sound.frame_rate)"
   ]
  },
  {
   "cell_type": "code",
   "execution_count": null,
   "metadata": {},
   "outputs": [],
   "source": [
    "slow_sound = speed_change(sound, 0.1)\n",
    "file_handle = slow_sound.export(FILE_NAME_ONLY+\"_SLOWED_DOWN.wav\", format=\"wav\")"
   ]
  }
 ],
 "metadata": {
  "kernelspec": {
   "display_name": "base",
   "language": "python",
   "name": "python3"
  },
  "language_info": {
   "codemirror_mode": {
    "name": "ipython",
    "version": 3
   },
   "file_extension": ".py",
   "mimetype": "text/x-python",
   "name": "python",
   "nbconvert_exporter": "python",
   "pygments_lexer": "ipython3",
   "version": "3.10.9"
  }
 },
 "nbformat": 4,
 "nbformat_minor": 2
}
