{
 "cells": [
  {
   "cell_type": "markdown",
   "metadata": {},
   "source": [
    "##### Steps to detect duration and frequency of ball bouncing from wav file\n",
    "1. Import necessary libraries\n",
    "2. Open audio File\n",
    "3. Detect periods of activity\n",
    "4. For Each period, find the frequency of the ball\n",
    "5. Output: \n",
    "    1. Plot a graph identifying periods of activity \n",
    "    2. Plot a sample period sinsoidal wave over activity\n",
    "    3. Output excel file with columns: start period, end period, duration, frequency, number of bounces"
   ]
  },
  {
   "cell_type": "markdown",
   "metadata": {},
   "source": [
    "1. Import necessary libraries"
   ]
  },
  {
   "cell_type": "code",
   "execution_count": 1,
   "metadata": {},
   "outputs": [],
   "source": [
    "# for opening audio files and play back\n",
    "from pydub import AudioSegment\n",
    "from pydub.playback import play\n",
    "from pydub.utils import mediainfo\n",
    "# for plotting\n",
    "import matplotlib.pyplot as plt\n",
    "# for calculating standard deviation\n",
    "import numpy as np\n",
    "import pandas as pd\n",
    "# for estimating frequency\n",
    "import scipy.optimize\n",
    "from collections import deque\n",
    "from math import sqrt\n",
    "# for file saving the output\n",
    "import os\n",
    "import time"
   ]
  },
  {
   "cell_type": "code",
   "execution_count": 2,
   "metadata": {},
   "outputs": [],
   "source": [
    "all_script_start_time=time.time()"
   ]
  },
  {
   "cell_type": "markdown",
   "metadata": {},
   "source": [
    "Controlling parameters"
   ]
  },
  {
   "cell_type": "code",
   "execution_count": 3,
   "metadata": {},
   "outputs": [],
   "source": [
    "# There can be breathing noise in audio, if detected bounces is less than the following\n",
    "# number, it is not registered in the output file\n",
    "MINIMUM_BOUNCES_TO_ADD_TO_RESULTS = 5\n",
    "# if the period is detected to be less than this duration, do not apply sine wave fitting and ignore\n",
    "MINIMUM_PERIOD_DURATION_IN_SECONDS = 1\n",
    "# If you want to show figures to understand the algorithm more, make the following True\n",
    "SHOW_FIGURES = False\n",
    "# figure size\n",
    "FIG_SIZE = [18, 8]\n",
    "# Enable this flag to see more debugging messages\n",
    "SHOW_DEBUG_MESSAGES = False\n",
    "# 80 th percentile and window size of 1000 are good estimates\n",
    "INITIAL_WINDOW_SIZE = 1000\n",
    "PERCENTILE_LEVEL = 80\n",
    "# where to find the input audio file\n",
    "SOUND_FILES_FOLDER = './sound_files'\n",
    "ORIGINALS_SUB_FOLDER = 'originals'"
   ]
  },
  {
   "cell_type": "markdown",
   "metadata": {},
   "source": [
    "In the pervious cell, we select the window size for our smoothing operation to be 1000 and the percentile to be 80th percentile\n",
    "The percentile idea works as follows: \n",
    "- Get the samples the are above the 80th percentile. These are used to mark areas of activity. \n",
    "- This helps reduce the noise and false positives "
   ]
  },
  {
   "cell_type": "markdown",
   "metadata": {},
   "source": [
    "2. Open audio File"
   ]
  },
  {
   "cell_type": "code",
   "execution_count": 4,
   "metadata": {},
   "outputs": [],
   "source": [
    "FILE_NAME_ONLY_DICT = {'original_work_file': 'sound_of_ball_original.wav',\n",
    "                       'file_with_breathing': 'pep4_2nd_original.mp3', 'fifth_file': 'AUD-20231221-WA0007_5th.m4a'}\n",
    "FILE_NAME_ONLY=FILE_NAME_ONLY_DICT['fifth_file']\n",
    "FILE_NAME = os.path.join(SOUND_FILES_FOLDER, ORIGINALS_SUB_FOLDER, FILE_NAME_ONLY)\n",
    "# what is the sampling rate in the recorded audio file\n",
    "info = mediainfo(FILE_NAME)\n",
    "original_sample_rate=int(info['sample_rate'])\n",
    "sound = AudioSegment.from_file(FILE_NAME)\n",
    "# some files are stereo, then select the channel with higher power\n",
    "if info['channels'] == '2':  # stereo\n",
    "    sound_split = sound.split_to_mono()\n",
    "    if sound_split[0].dBFS > sound_split[1].dBFS:\n",
    "        sound = sound_split[0]\n",
    "    else:\n",
    "        sound = sound_split[1]\n",
    "# Let's get the samples to work with\n",
    "sound_louder = sound+10\n",
    "\n",
    "samples = sound.get_array_of_samples()\n",
    "samples_list = sound_louder.get_array_of_samples().tolist()"
   ]
  },
  {
   "cell_type": "markdown",
   "metadata": {},
   "source": [
    "The following cell plots the original signal"
   ]
  },
  {
   "cell_type": "code",
   "execution_count": 5,
   "metadata": {},
   "outputs": [],
   "source": [
    "# make the sound lounder\n",
    "if SHOW_FIGURES:\n",
    "    plt.figure(figsize=FIG_SIZE)\n",
    "    _=plt.plot(samples_list, alpha=.5, color='blue', label='Original Signal')\n",
    "    _=plt.plot(sound_louder.get_array_of_samples().tolist(), alpha=0.1, color='red', label='Magnified signal')\n",
    "    plt.legend(loc='best')"
   ]
  },
  {
   "cell_type": "markdown",
   "metadata": {},
   "source": [
    "3. Detect periods of activity"
   ]
  },
  {
   "cell_type": "code",
   "execution_count": 6,
   "metadata": {},
   "outputs": [],
   "source": [
    "# 80 th percentile and window size of 1000 are good estimates\n",
    "# Making everything positive to mark periods of high loud activity\n",
    "abs_samples_list = [abs(ele) for ele in samples_list]\n",
    "# what is the signal level we are targing above?\n",
    "req_percentile = np.percentile(abs_samples_list, PERCENTILE_LEVEL)\n",
    "# set activity periods to max value for signal\n",
    "max_val = max(abs_samples_list)\n",
    "signal_on = [max_val if x > req_percentile else 0 for x in abs_samples_list]\n",
    "block_signal_on = signal_on.copy()\n",
    "\n",
    "# Mark the window before and after high signal as max value\n",
    "WS = INITIAL_WINDOW_SIZE\n",
    "\n",
    "\n",
    "# start_time=time.time()\n",
    "# for i in range(WS, len(samples_list)-WS):\n",
    "#     if max_val in signal_on[i-WS:i+WS]:\n",
    "#         block_signal_on[i] = max_val\n",
    "# print('method 1 time:\\t', time.time()-start_time)\n",
    "\n",
    "block_signal_on = signal_on.copy()\n",
    "max_val_indexes=[]\n",
    "for anIndex in range(WS, len(samples_list)-WS):\n",
    "    if signal_on[anIndex]==max_val:\n",
    "        max_val_indexes.append(anIndex)\n",
    "if len(max_val_indexes)==0:\n",
    "    raise Exception('No signal detected, lower the percentile.')\n",
    "lastIndexSetToMax=0\n",
    "for anIndex in max_val_indexes:\n",
    "    for i in range(max(lastIndexSetToMax, anIndex-WS),anIndex+WS):\n",
    "        block_signal_on[i]=max_val\n",
    "    lastIndexSetToMax=anIndex+WS\n",
    "\n",
    "if SHOW_FIGURES:\n",
    "    plt.figure(figsize=FIG_SIZE, dpi=600)\n",
    "    plt.plot(samples_list, label='Original signal')\n",
    "    plt.plot(block_signal_on, 'g', label='Blocks of activity')\n",
    "    plt.legend(loc='best')\n",
    "    plt.show()"
   ]
  },
  {
   "cell_type": "markdown",
   "metadata": {},
   "source": [
    "Identify periods of activity start and end"
   ]
  },
  {
   "cell_type": "code",
   "execution_count": 7,
   "metadata": {},
   "outputs": [],
   "source": [
    "# a list of tuples marking start and end of activity periods\n",
    "signal_on_periods=[]\n",
    "period_start=-1\n",
    "period_end=-1\n",
    "for i in range(len(block_signal_on)):\n",
    "    if block_signal_on[i]!=0:\n",
    "        if period_start==-1:\n",
    "            period_start=i\n",
    "    else:\n",
    "        if period_start!=-1 and period_end==-1:\n",
    "            period_end = i\n",
    "            signal_on_periods.append(tuple([period_start, period_end]))\n",
    "            period_start=period_end=-1"
   ]
  },
  {
   "cell_type": "markdown",
   "metadata": {},
   "source": [
    "Detecting and counting energy\n",
    "\n",
    "The idea here is to fit the signal to a sine wave.\n",
    "However, we are not going to match the signal directly to a sine wave, this has not been very accurate. Instead, areas of activity exhibit high standard deviation from the norm. It is the change in the standard deviation for a sliding window is what we will be matching to a sine wave."
   ]
  },
  {
   "cell_type": "code",
   "execution_count": 8,
   "metadata": {},
   "outputs": [],
   "source": [
    "def sinfunc(t, A, w, p, c):\n",
    "    return A * np.sin(w*t + p) + c\n",
    "def fit_sin(tt, yy):\n",
    "    '''Fit sin to the input time sequence, and return fitting parameters \"amp\", \"omega\", \"phase\", \"offset\", \"freq\", \"period\" and \"fitfunc\"'''\n",
    "    tt = np.array(tt)\n",
    "    yy = np.array(yy)\n",
    "    ff = np.fft.fftfreq(len(tt), (tt[1]-tt[0]))   # assume uniform spacing\n",
    "    Fyy = abs(np.fft.fft(yy))\n",
    "    # excluding the zero frequency \"peak\", which is related to offset\n",
    "    guess_freq = abs(ff[np.argmax(Fyy[1:])+1])\n",
    "    guess_amp = np.std(yy) * 2.**0.5\n",
    "    guess_offset = np.mean(yy)\n",
    "    guess = np.array([guess_amp, 2.*np.pi*guess_freq, 0., guess_offset])\n",
    "\n",
    "    popt, pcov = scipy.optimize.curve_fit(sinfunc, tt, yy, p0=guess)\n",
    "    A, w, p, c = popt\n",
    "    f = w/(2.*np.pi)\n",
    "    def fitfunc(t): return A * np.sin(w*t + p) + c\n",
    "    return {\"amp\": A, \"omega\": w, \"phase\": p, \"offset\": c, \"freq\": f, \"period\": 1./f, \"fitfunc\": fitfunc, \"maxcov\": np.max(pcov), \"rawres\": (guess, popt,pcov)}"
   ]
  },
  {
   "cell_type": "markdown",
   "metadata": {},
   "source": [
    "Helper class to achieve speeding up of Rolling Standard Deviation [Calculations](https://stackoverflow.com/questions/71594436/is-there-a-fast-running-rolling-standard-deviation-algorithm)"
   ]
  },
  {
   "cell_type": "code",
   "execution_count": 9,
   "metadata": {},
   "outputs": [],
   "source": [
    "class RunningStd:\n",
    "    def __init__(self, n, initial_window_data):\n",
    "        self.n = n\n",
    "        self.data = deque(list(initial_window_data), maxlen=n)\n",
    "        self.mean = np.mean(self.data)\n",
    "        self.sdev = np.std(self.data)\n",
    "        self.variance = self.sdev * self.sdev\n",
    "\n",
    "    def add(self, x):\n",
    "        n = self.n\n",
    "        oldmean = self.mean\n",
    "        goingaway = self.data[0]\n",
    "        self.mean = newmean = oldmean + (x - goingaway) / n\n",
    "        self.data.append(x)\n",
    "        self.variance += (x - goingaway) * (\n",
    "            (x - newmean) + (goingaway - oldmean)) / (n - 1)\n",
    "        self.sdev = sqrt(self.variance)"
   ]
  },
  {
   "cell_type": "code",
   "execution_count": 10,
   "metadata": {},
   "outputs": [],
   "source": [
    "# A dictionary to store all results\n",
    "all_result_dict = {}\n",
    "period_index = 0\n",
    "# For each period of detected activity\n",
    "for period_start, period_end in signal_on_periods:\n",
    "    try:\n",
    "        # is the duration more than the minimum:\n",
    "        if (period_end-period_start)/original_sample_rate < MINIMUM_PERIOD_DURATION_IN_SECONDS:\n",
    "\n",
    "            if SHOW_DEBUG_MESSAGES:\n",
    "                print('Skipping frames between:\\t', period_start, '\\t and\\t:', period_end)\n",
    "\n",
    "            continue\n",
    "        # otherwise, match signal to sine wave and get frequency\n",
    "        # prepare dictionary for results\n",
    "        one_result_dict = {}\n",
    "        one_result_dict['start'] = period_start\n",
    "        one_result_dict['end'] = period_end\n",
    "        # the period we are working on\n",
    "        one_sample = samples[period_start:period_end]\n",
    "        # Calculate the standard deviation of the rolling window for this period\n",
    "        # initialize the standard deviation object:\n",
    "        running_std_obj=RunningStd(INITIAL_WINDOW_SIZE, one_sample[:INITIAL_WINDOW_SIZE])\n",
    "\n",
    "        if SHOW_FIGURES:\n",
    "            plt.figure(figsize=FIG_SIZE)\n",
    "            plt.plot(one_sample, alpha=0.5)\n",
    "\n",
    "        # if you want to listen to the segment, uncomment the lines below:\n",
    "        # 1000 here because it is in milliseconds\n",
    "        # seg = sound[period_start/original_sample_rate*1000:period_end/original_sample_rate*1000]\n",
    "        # play(seg)\n",
    "\n",
    "        one_sample_series=pd.Series(one_sample)\n",
    "        # calculate the standard deviation of the rolling window\n",
    "\n",
    "        # periods with sound of ball hitting wall have high variance in values\n",
    "        # this means, we can use the changing standard deviation as a proxy for the sound wave\n",
    "        def append_last_value_to_std_dev(x):\n",
    "            running_std_obj.add(x[-1])\n",
    "            return running_std_obj.sdev\n",
    "\n",
    "        rolling_result = one_sample_series.rolling(\n",
    "            window=INITIAL_WINDOW_SIZE).apply(append_last_value_to_std_dev, raw=True)\n",
    "\n",
    "        if SHOW_FIGURES:\n",
    "            plt.plot(rolling_result, color='green', alpha=1, label='rolling_res')\n",
    "            plt.legend(loc=\"upper left\")\n",
    "            plt.show()\n",
    "\n",
    "        # fit sine wave\n",
    "        if SHOW_FIGURES:\n",
    "            fig, ax = plt.subplots(figsize=FIG_SIZE)\n",
    "\n",
    "        data_to_fit=rolling_result\n",
    "        # filling na data\n",
    "        data_to_fit=data_to_fit.fillna(np.mean(data_to_fit))\n",
    "        # standardizing the data to make it easier for fitting signal to identify it\n",
    "        dataMean = np.mean(data_to_fit)\n",
    "        dataStd = np.std(data_to_fit)\n",
    "        data_to_fit_standardized=(data_to_fit-dataMean)/dataStd\n",
    "\n",
    "        if SHOW_FIGURES:\n",
    "            ax.plot(data_to_fit_standardized, color='red',\n",
    "                    alpha=0.4, label='data_to_fit_standardized')\n",
    "\n",
    "        # shift the data to be around the x axis\n",
    "        # therefore, it sine wave fitting will be more accurate\n",
    "        def func2(x):\n",
    "            return x[0]-np.mean(x)\n",
    "        data_to_fit_standardized_shifted = data_to_fit_standardized.rolling(\n",
    "            window=INITIAL_WINDOW_SIZE).apply(func2, raw=True)\n",
    "\n",
    "        if SHOW_FIGURES:\n",
    "            ax.plot(data_to_fit_standardized_shifted, color='blue',\n",
    "                    alpha=1, label='data_to_fit_standardized_shifted')\n",
    "        x_vals = np.linspace(0, len(data_to_fit_standardized_shifted)-1,\n",
    "                            num=len(data_to_fit_standardized_shifted))\n",
    "        x_vals_test = np.linspace(0, len(data_to_fit_standardized_shifted)-1,\n",
    "                                num=100 * len(data_to_fit_standardized))\n",
    "        # replace na values\n",
    "        ds_mean = data_to_fit_standardized_shifted.mean()\n",
    "        data_to_fit_standardized_shifted.fillna(value=ds_mean, inplace=True)\n",
    "\n",
    "        # fit to a sine wave\n",
    "        res = fit_sin(x_vals, data_to_fit_standardized_shifted)\n",
    "\n",
    "        if SHOW_DEBUG_MESSAGES:\n",
    "            print( \"Amplitude=%(amp)s, Angular freq.=%(omega)s, phase=%(phase)s, offset=%(offset)s, Max. Cov.=%(maxcov)s\" % res )\n",
    "        if SHOW_FIGURES:\n",
    "            plt.plot(x_vals_test, res[\"fitfunc\"](x_vals_test), \"r-\", label=\"y fit curve\", linewidth=2)\n",
    "            ax.legend(loc='best')\n",
    "            ax.grid(True, which='both')\n",
    "            plt.show()\n",
    "\n",
    "        # should I add this to the result?\n",
    "        # if the number of bounces is more than MINIMUM_BOUNCES_TO_ADD_TO_RESULTS\n",
    "        this_period_freq = res['omega']/(2*np.pi)\n",
    "        this_period_bounce_count = int(\n",
    "            this_period_freq*(period_end-period_start))\n",
    "        if this_period_bounce_count > MINIMUM_BOUNCES_TO_ADD_TO_RESULTS:\n",
    "            one_result_dict['period_index'] = period_index\n",
    "            one_result_dict['the_freq'] = this_period_freq\n",
    "            one_result_dict['bounce_count'] = int(\n",
    "                one_result_dict['the_freq']*(period_end-period_start))\n",
    "            one_result_dict['period_duration'] = (\n",
    "                period_end-period_start)/original_sample_rate\n",
    "            if SHOW_DEBUG_MESSAGES:\n",
    "                print('The bouncing frequency:', one_result_dict['the_freq'], end='\\t')\n",
    "                print('Period bounce count:', one_result_dict['bounce_count'], end='\\t')\n",
    "                print('Period duration:', one_result_dict['period_duration'])\n",
    "            all_result_dict[period_index] = one_result_dict.copy()\n",
    "            period_index += 1\n",
    "\n",
    "    except Exception as error:\n",
    "        print(\"An error has occured: \", error)"
   ]
  },
  {
   "cell_type": "markdown",
   "metadata": {},
   "source": [
    "Export to Excel file"
   ]
  },
  {
   "cell_type": "code",
   "execution_count": 11,
   "metadata": {},
   "outputs": [],
   "source": [
    "timestr = time.strftime(\"%Y%m%d-%H%M%S\")\n",
    "all_df=pd.DataFrame()\n",
    "for period_index, period_details in all_result_dict.items():\n",
    "    if all_df.size==0:\n",
    "        all_df = pd.DataFrame(data=period_details, index=[0])\n",
    "    else:\n",
    "        one_df=pd.DataFrame(data=period_details, index=[0])\n",
    "        all_df=pd.concat([all_df,one_df])\n",
    "\n",
    "all_df.to_excel('./'+FILE_NAME+'_'+timestr+'_'+'Ball_Bounces.xlsx')\n"
   ]
  },
  {
   "cell_type": "code",
   "execution_count": 12,
   "metadata": {},
   "outputs": [
    {
     "name": "stdout",
     "output_type": "stream",
     "text": [
      "The script execution time is:\t 15.283734798431396\n"
     ]
    }
   ],
   "source": [
    "print('The script execution time is:\\t', time.time()-all_script_start_time)"
   ]
  },
  {
   "cell_type": "markdown",
   "metadata": {},
   "source": [
    "The end"
   ]
  }
 ],
 "metadata": {
  "kernelspec": {
   "display_name": "base",
   "language": "python",
   "name": "python3"
  },
  "language_info": {
   "codemirror_mode": {
    "name": "ipython",
    "version": 3
   },
   "file_extension": ".py",
   "mimetype": "text/x-python",
   "name": "python",
   "nbconvert_exporter": "python",
   "pygments_lexer": "ipython3",
   "version": "3.10.9"
  }
 },
 "nbformat": 4,
 "nbformat_minor": 2
}
